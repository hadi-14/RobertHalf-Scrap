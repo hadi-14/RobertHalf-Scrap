{
 "cells": [
  {
   "cell_type": "code",
   "execution_count": 2,
   "id": "97511a91",
   "metadata": {},
   "outputs": [],
   "source": [
    "from selenium import webdriver\n",
    "from selenium.webdriver.common.by import By\n",
    "from selenium.webdriver.support.wait import WebDriverWait\n",
    "from selenium.webdriver.support import expected_conditions as EC\n",
    "from webdriver_manager.chrome import ChromeDriverManager\n",
    "import time\n",
    "import csv"
   ]
  },
  {
   "cell_type": "code",
   "execution_count": 4,
   "id": "3b9015c6",
   "metadata": {},
   "outputs": [],
   "source": [
    "def get_driver(link):\n",
    "    global driver\n",
    "    \n",
    "    options = webdriver.ChromeOptions()\n",
    "#     options.add_argument('--load-extension=C:/Users/Hadi-PC/Python/proxy_auth_plugin')\n",
    "    options.add_argument(\"--disable-dev-shm-usage\")\n",
    "    options.add_argument(\"--start-maximized\")\n",
    "    options.add_argument('--disable-gpu')\n",
    "    options.add_argument('--disable-infobars')\n",
    "\n",
    "    driver = webdriver.Chrome(ChromeDriverManager().install(), options=options)\n",
    "    driver.get(link)"
   ]
  },
  {
   "cell_type": "code",
   "execution_count": 5,
   "id": "fa36d619",
   "metadata": {},
   "outputs": [],
   "source": [
    "def scrap():\n",
    "    position = driver.find_element(By.XPATH,\"//span[@id='rh_job_detail__emptype']\").text\n",
    "    job_type = driver.find_element(By.XPATH,\"//h1\").text\n",
    "    location = driver.find_element(By.XPATH,\"//span[@id='rh_job_detail__location']\").text\n",
    "    salary = driver.find_element(By.XPATH,\"//span[@id='rh_job_detail__salary']\").text\n",
    "    description = driver.find_element(By.XPATH,\"//div[@id='rh_job_detail__description']/p\").text\n",
    "    requirement = driver.find_element(By.XPATH,\"//div[@id='rh_job_detail__requirements']/p\").text#.replace(\"\\u202f\",\"\")\n",
    "    qualification = driver.find_element(By.XPATH,\"//p[@id='rh_job_detail__lob-name']\").text.replace(f\"{position} \",\"\")\n",
    "    \n",
    "    return position, location, job_type, salary, description, requirement, qualification"
   ]
  },
  {
   "cell_type": "code",
   "execution_count": 6,
   "id": "6cfceafd",
   "metadata": {},
   "outputs": [],
   "source": [
    "def save_csv(others):    \n",
    "    if total_count == 1:\n",
    "        with open(\"data.csv\", \"w\", newline=\"\") as file:\n",
    "            writer = csv.writer(file)\n",
    "            writer.writerow([\"position\", \"location\", \"job_type\", \"salary\", \"description\", \"requirement\", \"qualification\"])\n",
    "            writer.writerow(others)\n",
    "    else:\n",
    "        with open(\"data.csv\", \"a\", newline=\"\") as file:\n",
    "            writer = csv.writer(file)\n",
    "            writer.writerow(others)"
   ]
  },
  {
   "cell_type": "code",
   "execution_count": 7,
   "id": "d6992ba8",
   "metadata": {},
   "outputs": [
    {
     "name": "stderr",
     "output_type": "stream",
     "text": [
      "C:\\Users\\Hadi-PC\\AppData\\Local\\Temp\\ipykernel_7720\\2103068508.py:11: DeprecationWarning: executable_path has been deprecated, please pass in a Service object\n",
      "  driver = webdriver.Chrome(ChromeDriverManager().install(), options=options)\n"
     ]
    }
   ],
   "source": [
    "get_driver(\"https://www.roberthalf.ca/en/jobs/Data-analyst-\")\n",
    "\n",
    "wait = WebDriverWait(driver,30)\n",
    "\n",
    "driver.implicitly_wait(10)"
   ]
  },
  {
   "cell_type": "code",
   "execution_count": null,
   "id": "c0e7b8da",
   "metadata": {},
   "outputs": [],
   "source": [
    "pages = wait.until(EC.presence_of_element_located((By.XPATH,f\"//li[@class='sc-frDJqD ieBQeX']\")))\n",
    "\n",
    "total_count = 0\n",
    "\n",
    "for page_count in range(1,int(driver.find_elements(By.XPATH,f\"//li[@class='sc-frDJqD ieBQeX']\")[-2].text)+1):\n",
    "        \n",
    "    try:\n",
    "        driver.find_element(By.XPATH,f\"//a[@aria-label='Go to {page_count} ']\").click()        \n",
    "    except:pass\n",
    "    \n",
    "    wait.until(EC.presence_of_element_located((By.XPATH,\"//a[@class='sc-kpOJdX kcWDxC']\")))\n",
    "\n",
    "    job_cards = driver.find_elements(By.XPATH,\"//a[@class='sc-kpOJdX kcWDxC']\")\n",
    "    \n",
    "    for cnt in range(1,len(job_cards)+1):\n",
    "        \n",
    "        total_count += 1\n",
    "        \n",
    "        wait.until(EC.presence_of_element_located((By.XPATH,f\"(//a[@class='sc-kpOJdX kcWDxC'])[{cnt}]\"))).click()\n",
    "        \n",
    "        save_csv(scrap())\n",
    "                \n",
    "        driver.back()"
   ]
  },
  {
   "cell_type": "code",
   "execution_count": null,
   "id": "03267557",
   "metadata": {},
   "outputs": [],
   "source": []
  }
 ],
 "metadata": {
  "kernelspec": {
   "display_name": "Python 3 (ipykernel)",
   "language": "python",
   "name": "python3"
  },
  "language_info": {
   "codemirror_mode": {
    "name": "ipython",
    "version": 3
   },
   "file_extension": ".py",
   "mimetype": "text/x-python",
   "name": "python",
   "nbconvert_exporter": "python",
   "pygments_lexer": "ipython3",
   "version": "3.9.15"
  },
  "vscode": {
   "interpreter": {
    "hash": "347ffee9a99e52852db789bee780e2ff9f0199def1c1e3e89cfcb73566e6c065"
   }
  }
 },
 "nbformat": 4,
 "nbformat_minor": 5
}
